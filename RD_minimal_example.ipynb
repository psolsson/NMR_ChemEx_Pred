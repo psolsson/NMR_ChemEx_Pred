{
 "cells": [
  {
   "cell_type": "markdown",
   "metadata": {},
   "source": [
    "## Prediction of chemical exchange observables from Markov models\n",
    "\n",
    "Simon Olsson (email: simon.olsson@fu-berlin.de) - Jan 6th 2017\n",
    "#### Preliminaries\n",
    "With this Jupyter notebook I provide some minimal examples on how to compute some common NMR observables sensitive to chemical exchange. The aim is to help people who want to apply the methodology we recently presented in our manuscript \"Mechanistic Models of Chemical Exchange Induced Relaxation in Protein NMR\" (doi: 10.1021/jacs.6b09460). There are several observables which are _not_ covered - popular onces include CEST, HARD, MQ and solid-state observables. I will try to update this notebook with more examples in the future, as I find the time to do so. The medium-term goal is to make a stand-alone library for python which replaces this notebook, *feedback and contributions are therefore very welcome via. e-mail*. Until then I've designed this notebook in such a way that cells have well-defined functionality which can easily be copy-pasted into more advanced analysis workflows.\n",
    "\n",
    "While I've tried to make this notebook as self-contained as possible, I've also aimed at making it concise. Do not expect a thorough introduction to Markov models here - I will only outline key topics relevant here. If you are new to MSMs I refer the following authoritative review: Prinz et al JCP 2011 (doi: 10.1063/1.3565032). If you are new to chemical exchange relaxation in NMR I refer to any recent review on the topic by fx Arthur G. Palmer III (fx doi: 10.1021/cr0404287) or D. Flemming Hansen (doi: 10.1007/978-1-4899-7621-5_3) (solution state) or Ernst and Schanda (fx. doi: 10.1016/j.pnmrs.2016.02.001) (solid state). For specific issues, further details may be found in the following manuscript:\n",
    "\n",
    "Olsson and Noé \"Mechanistic Models of Chemical Exchange Induced Relaxation in Protein NMR\" In press JACS\n",
    "http://pubs.acs.org/doi/abs/10.1021/jacs.6b09460\n",
    "\n",
    "Alternatively, you can shoot me an email or message me on twitter @solnmr.\n",
    "\n",
    "If you find this notebook helpful or use it in your research please consider citing this paper.\n",
    "\n",
    "The notebook is written for Python 2.7 - but can trivially be converted to be Python 3.X compatible.\n",
    "\n",
    "Dependencies: numpy, scipy, msmtools, matplotlib"
   ]
  },
  {
   "cell_type": "markdown",
   "metadata": {},
   "source": [
    "### Chemical exchange in the fast-exchange limit - a quick primer\n",
    "The chemical shift is an atomic resolution measure of the local chemical (structural) environment and its correlation function is sensitive to the fluctuations of this quantity over time. In the fast-exchange limit the exchange induced relaxation $R_2^{ex}$ is sensitive to the integral of chemical shift correlation function $g(\\tau)$,\n",
    "$$ R_2^{ex} = (2\\pi \\nu_0)^2 \\int_0^{\\infty} g(\\tau)\\;\\mathrm{d}\\tau.$$\n",
    "$\\nu_0$ is the Larmor frequency of the measured nucleus at the experimental conditions. A number of common NMR experiments either allow for measurement of this quantity or related quantities where a experimentally controlled convolution of the correlation function is measured.  These experiments therefore gives us information about the structure, thermodynamics and kinetics of a particular system, and provides a valuable avenue to validate Markov models built using imperfect molecular mechanics forcefields.\n",
    "### Correlation functions of Markov models\n",
    "Recall the the auto-correlation function - e.g. a chemical shift correlation function - of a transition probability matrix $\\mathbf{P}$ at lag-time of $\\Delta t$ and $M$ states is a mixture of $M-1$ exponetial decays\n",
    "$$ g(\\tau) = \\sum_{i=2}^M c_i \\exp(-\\tau/\\tau_i^{ex})$$\n",
    "with\n",
    "$$ c_i = (\\mathbf{f}\\cdot\\mathbf{l}_i)^2, \\hspace{0.1cm} \\tau_i^{ex} = \\frac{-\\Delta t}{\\log\\mid \\lambda_i \\mid}$$\n",
    "where $\\mathbf{l}_i$ is the ith left eigenvector of $\\mathbf{P}$ and $\\lambda_i$ is the corresponding eigenvalue. $\\mathbf{f}$ is the average microscopic observable in each of the $M$-microstates of $\\mathbf{P}$. In the context of chemical exchange $\\mathbf{f}$ is the chemical shift of each of the Markov model micro-states. In MSM jargon the pairs of $c_i, \\tau^{ex}_i$ for a Markov model is often called a *fingerprint*.\n",
    "### Some analytical expressions of observable exchange induced relaxation rates\n",
    "Correlation functions of this form gives rise to tractable analytic experessions of observable exchange induced relaxation. The expression from above becomes:\n",
    "$$ R_2^{ex} = (2\\pi \\nu_0)^2 \\sum_{i=2}^M c_i\\tau^{ex}_i. $$\n",
    "Two other examples presented here are observed rates in CPMG (for details please the manuscript)\n",
    "$$R_{1\\rho,CPMG}^{\\mathrm{ex}}(\\nu_{\\mathrm{CP}})=(2\\pi\\nu_{0})^{2}\\left(\\sum_{i=2}^{m}c_{i}\\tau_{i}^{\\mathrm{ex}}\\left(1-\\frac{{\\tau_{i}^{\\mathrm{{ex}}}}}{\\tau_{\\mathrm{{CP}}}}\\tanh{\\frac{\\tau_{\\mathrm{CP}}}{\\tau_{i}^{\\mathrm{ex}}}}\\right)\\right)$$\n",
    "and spin-lock experiments\n",
    "$$ R_{1\\rho,SL}^{\\mathrm{ex}}(\\nu_{1})=(2\\pi\\nu_{0})^{2}\\left(\\sum_{i=2}^{m}c_{i}\\frac{\\tau_{i}^{\\mathrm{ex}}}{1+(\\tau_{i}^{\\mathrm{ex}}\\nu_{1})^{2}}\\right).$$\n",
    "$\\nu_1$ is the spin-lock frequency and $\\tau_{\\text{CPMG}}$ is the inter-pulse delay in the CPMG pulse-train.\n",
    "\n"
   ]
  },
  {
   "cell_type": "code",
   "execution_count": 177,
   "metadata": {
    "collapsed": false
   },
   "outputs": [
    {
     "name": "stdout",
     "output_type": "stream",
     "text": [
      "Populating the interactive namespace from numpy and matplotlib\n"
     ]
    },
    {
     "name": "stderr",
     "output_type": "stream",
     "text": [
      "WARNING: pylab import has clobbered these variables: ['f', 'pv']\n",
      "`%matplotlib` prevents importing * from pylab and numpy\n"
     ]
    }
   ],
   "source": [
    "%pylab inline\n",
    "import numpy as np\n",
    "import msmtools as mt\n",
    "import scipy as sp\n",
    "from matplotlib import pyplot as plt\n",
    "np.random.seed(303808) # set random seed for reproducibility"
   ]
  },
  {
   "cell_type": "markdown",
   "metadata": {},
   "source": [
    "## Toy system\n",
    "The following sets up a 3 state toy system with artificial chemical shifts.\n",
    "\n",
    "First a reference model is defined, 100 trajectories of 50000 nanoseconds are generated. Corresponding 'chemical shift' trajectories are generated. \n",
    "\n",
    "### Practical considerations\n",
    "In a real setting, _dtrajs_ will be your MD trajectories projected onto a discretized space (assigned to cluster centers), and _ftrajs_ will be the same MD trajectories where each index is a predicted chemical shift for the corresponding MD frame. This should be done prior to analysis using Camshift, ShiftX2 (w/o ShiftY option), PPM, SPARTA+, or another method. The function *cluster_averages* can then be used to compute the vector $\\mathbf{f}$ needed for computation of the 'fingerprint'."
   ]
  },
  {
   "cell_type": "code",
   "execution_count": 178,
   "metadata": {
    "collapsed": false
   },
   "outputs": [],
   "source": [
    "# Simple reversible three state Markov model - two wells and a barrier\n",
    "T = np.array([[0.99, 0.01, 0.0], \n",
    "              [0.2, 0.1, 0.7], \n",
    "              [0.0, 0.002, 0.998]])\n",
    "\n",
    "#Delta t = 5ns\n",
    "Deltat = 5e-9\n",
    "\n",
    "# State 'chemical shift' average and standard deviation\n",
    "CSp = [[7.1, .9], [8.2, 0.15], [8.9, 0.43]] # all in p.p.m.\n",
    "\n",
    "#generate 100 Trajectories of length 5microseconds using the Gillespie algorithm \n",
    "dtrajs = mt.generation.generate_trajs(T, 100, 10000)\n",
    "#generate corresponding 'chemical shift' trajectories\n",
    "ftrajs = [np.array([np.random.normal(CSp[frame][0], CSp[frame][1]) for frame in dt]) for dt in dtrajs]"
   ]
  },
  {
   "cell_type": "code",
   "execution_count": 179,
   "metadata": {
    "collapsed": false
   },
   "outputs": [
    {
     "data": {
      "text/plain": [
       "array([ 0.05390836,  0.00269542,  0.94339623])"
      ]
     },
     "execution_count": 179,
     "metadata": {},
     "output_type": "execute_result"
    }
   ],
   "source": [
    "mt.analysis.statdist(T)"
   ]
  },
  {
   "cell_type": "code",
   "execution_count": 180,
   "metadata": {
    "collapsed": false
   },
   "outputs": [
    {
     "data": {
      "text/plain": [
       "<matplotlib.text.Text at 0x11ee6f350>"
      ]
     },
     "execution_count": 180,
     "metadata": {},
     "output_type": "execute_result"
    },
    {
     "data": {
      "image/png": "[encoded data removed]",
      "text/plain": [
       "<matplotlib.figure.Figure at 0x11d40a310>"
      ]
     },
     "metadata": {},
     "output_type": "display_data"
    }
   ],
   "source": [
    "import matplotlib\n",
    "font = {\n",
    "        #font.sans-serif     : Bitstream Vera Sans, Lucida Grande, Verdana, Geneva, Lucid, Arial, Helvetica, Avant Garde, sans-serif\n",
    "       'size'   : 12}\n",
    "matplotlib.rcParams['font.family'] = 'Arial'\n",
    "\n",
    "matplotlib.rc('font', **font)\n",
    "matplotlib.rcParams['mathtext.fontset'] = 'stixsans'\n",
    "matplotlib.rcParams['font.sans-serif'] = 'Arial'\n",
    "\n",
    "f, ax = plt.subplots(nrows=1,ncols=1,figsize=(4,4))\n",
    "ax.hist(np.hstack(ftrajs), bins = 128, histtype='step', log=False)\n",
    "ax.set_xlabel(r'Chemical shift, $^1$H / p.p.m.')\n",
    "ax.set_ylabel(r'Count')\n",
    "ax.set_title('Histogram of ftrajs')\n"
   ]
  },
  {
   "cell_type": "code",
   "execution_count": 181,
   "metadata": {
    "collapsed": false
   },
   "outputs": [],
   "source": [
    "# Estimate Markov model from synthetic data\n",
    "countmatrix_synthetic_data = mt.estimation.count_matrix(dtrajs, 1)\n",
    "T_synthetic = mt.estimation.tmatrix(countmatrix_synthetic_data, reversible=True)"
   ]
  },
  {
   "cell_type": "code",
   "execution_count": 182,
   "metadata": {
    "collapsed": false
   },
   "outputs": [],
   "source": [
    "# Function to compute microstate observables from an aligned set of dtrajs and ftrajs\n",
    "def cluster_averages(dtrajs, ftrajs, n_clusters):\n",
    "    \"\"\"\n",
    "    dtrajs - list of np.arrays (N,)\n",
    "    ftrajs - list of np.arrays (N,A)\n",
    "    n_clusters - int (number of states in dtrajs) \n",
    "\n",
    "    returns cluster averages as list shape(n_clusters, A)\n",
    "    \"\"\"\n",
    "    c_avgs = [[] for i in range(n_clusters)]\n",
    "    for dt,ft in zip(dtrajs,ftrajs):\n",
    "        for i in range(n_clusters):\n",
    "            c_avgs[i].append( ft[dt == i] )\n",
    "    return map(lambda x:np.hstack(x).mean(axis=0), c_avgs)\n"
   ]
  },
  {
   "cell_type": "code",
   "execution_count": 183,
   "metadata": {
    "collapsed": false
   },
   "outputs": [],
   "source": [
    "# Compute f-vector\n",
    "microscopic_cs = cluster_averages(dtrajs, ftrajs, 3)"
   ]
  },
  {
   "cell_type": "markdown",
   "metadata": {},
   "source": [
    "### Computing fingerprints using msmtools\n",
    "From above we have the two quantities needed to compute the 'fingerprints'. From the fingerprints we can then evaluate the expressions of the observables as needed."
   ]
  },
  {
   "cell_type": "code",
   "execution_count": 184,
   "metadata": {
    "collapsed": false
   },
   "outputs": [],
   "source": [
    "fingerprints = mt.analysis.fingerprint_correlation(T, microscopic_cs, tau=Deltat)"
   ]
  },
  {
   "cell_type": "code",
   "execution_count": 185,
   "metadata": {
    "collapsed": false
   },
   "outputs": [],
   "source": [
    "def r1rho_pure(fp, nu, nums=[0,1]):\n",
    "    \"\"\"\n",
    "    Compute exchange contribution to r1rho spin-lock relaxation rate.\n",
    "    arguments:\n",
    "    fp - fingerprints\n",
    "    nu - np.array of spin-lock frequencies\n",
    "    nums - iterable of integers, indicies of process to include\n",
    "    \n",
    "    returns np.array of induced relaxation rates (same shape as nu)\n",
    "    \"\"\"\n",
    "    times = fp[0][1:]\n",
    "    coefs = fp[1][1:]\n",
    "    return np.sum([coefs[i]*times[i]/(1+(times[i]*nu)**2.) for i in nums], axis=0)\n",
    "\n",
    "def cpmg_pure(fp, taucpmg, nums=[0,1]):\n",
    "    \"\"\"\n",
    "    Compute exchange contribution to CPMG relaxation rate.\n",
    "    arguments:\n",
    "    fp - fingerprints\n",
    "    taucpmg - np.array of CPMG frequencies (1/\\tau_CPMG)\n",
    "    nums - iterable of integers, indicies of process to include\n",
    "    \n",
    "    returns np.array of induced relaxation rates (same shape as nu)\n",
    "    \"\"\"    \n",
    "    times = fp[0][1:]\n",
    "    coefs = fp[1][1:]\n",
    "    return np.sum([coefs[i]*times[i]*(1-times[i]/taucpmg*np.tanh(taucpmg/times[i]) ) for i in nums], axis=0)\n",
    "\n",
    "def rex_pure(fp, nums=[0,1]):\n",
    "    \"\"\"\n",
    "    Compute exchange contribution to CPMG relaxation rate.\n",
    "    arguments:\n",
    "    fp - fingerprints\n",
    "    nums - iterable of integers, indicies of process to include\n",
    "    \n",
    "    returns np.array of induced relaxation rates (same shape as nu)\n",
    "    \"\"\"    \n",
    "    times = fp[0][1:]\n",
    "    coefs = fp[1][1:]\n",
    "    return np.sum([coefs[i]*times[i] for i in nums], axis=0)"
   ]
  },
  {
   "cell_type": "markdown",
   "metadata": {},
   "source": [
    "## Examples\n",
    "A quick note on units. The final units are always $s^{-1}$. $\\nu_0$ is expressed as $s^{-1}\\,\\text{ppm}^{-1}$ since the output of $R_2(\\cdot)$ (any of the observable calculations) is $s\\,\\text{ppm}^2$. Fx. the prefactor $(2\\pi\\nu_0)^2$ for a $^1$H nucleus at 800MHz will be $(2\\pi 800\\cdot10^6\\,\\text{Hz}\\, \\text{ppm}^{-1})^2 = (2\\pi\\, 800)^2 $ with units $s^{-2}\\,\\text{ppm}^{-2}$. Multiplied by an observable function: $s^{-2}\\,\\text{ppm}^{-2} s\\,\\text{ppm}^{2} = s^{-1}$"
   ]
  },
  {
   "cell_type": "markdown",
   "metadata": {},
   "source": [
    "### 1. Chemical exchange contribution"
   ]
  },
  {
   "cell_type": "code",
   "execution_count": 186,
   "metadata": {
    "collapsed": false
   },
   "outputs": [
    {
     "name": "stdout",
     "output_type": "stream",
     "text": [
      "Rex is for this 1H proton is 2.561 s^-1 at 800MHz\n"
     ]
    }
   ],
   "source": [
    "print \"Rex is for this 1H proton is %.3f s^-1 at 800MHz\"%((2*np.pi*800)**2.*rex_pure(fingerprints))"
   ]
  },
  {
   "cell_type": "markdown",
   "metadata": {},
   "source": [
    "### 2. $R_{1\\rho,SL}$"
   ]
  },
  {
   "cell_type": "code",
   "execution_count": 187,
   "metadata": {
    "collapsed": false
   },
   "outputs": [
    {
     "data": {
      "text/plain": [
       "<matplotlib.text.Text at 0x11eeaa5d0>"
      ]
     },
     "execution_count": 187,
     "metadata": {},
     "output_type": "execute_result"
    },
    {
     "data": {
      "image/png": "[encoded data removed]",
      "text/plain": [
       "<matplotlib.figure.Figure at 0x11edd1e90>"
      ]
     },
     "metadata": {},
     "output_type": "display_data"
    }
   ],
   "source": [
    "nu = np.arange(1e3,5e6,1e5)\n",
    "f, ax = plt.subplots(nrows=1,ncols=1,figsize=(4,4))\n",
    "ax.plot(nu/1e6, (2*np.pi*800)**2.*r1rho_pure(fingerprints,nu,nums=[0,1] ))\n",
    "\n",
    "ax.set_xlabel(r'$\\nu_1$, $10^6\\; s^{-1}$')\n",
    "ax.set_ylabel(r'$R_{1\\rho,SL}$')\n",
    "ax.set_title(r'$R_{1\\rho,SL}$ experiment example')\n"
   ]
  },
  {
   "cell_type": "markdown",
   "metadata": {},
   "source": [
    "### 3. $R_{1\\rho,CPMG}$"
   ]
  },
  {
   "cell_type": "code",
   "execution_count": 188,
   "metadata": {
    "collapsed": false
   },
   "outputs": [
    {
     "data": {
      "text/plain": [
       "<matplotlib.text.Text at 0x11f19d850>"
      ]
     },
     "execution_count": 188,
     "metadata": {},
     "output_type": "execute_result"
    },
    {
     "data": {
      "image/png": "[encoded data removed]",
      "text/plain": [
       "<matplotlib.figure.Figure at 0x11edd1d50>"
      ]
     },
     "metadata": {},
     "output_type": "display_data"
    }
   ],
   "source": [
    "taucpmg = 1./np.linspace(1e3,5e6,8000)\n",
    "f, ax = plt.subplots(nrows=1,ncols=1,figsize=(4,4))\n",
    "ax.plot(1e-6/(taucpmg), (2*np.pi*800.)**2.*cpmg_pure(fingerprints, taucpmg, nums=[0,1]))\n",
    "\n",
    "ax.set_xlabel(r'$\\nu$, MHz')\n",
    "ax.set_ylabel(r'$R_{1\\rho,CPMG}$')\n",
    "ax.set_title(r'CPMG experiment example')\n"
   ]
  },
  {
   "cell_type": "markdown",
   "metadata": {},
   "source": [
    "### 4. Partial relaxation dispersion\n",
    "That is, when a difference experiment is carried out. For example: $\\Delta R_2 = R_{1\\rho,CPMG}(2\\,\\text{MHz}) - R_{1\\rho,CPMG}(0.1\\,\\text{MHz})$ "
   ]
  },
  {
   "cell_type": "code",
   "execution_count": 189,
   "metadata": {
    "collapsed": false
   },
   "outputs": [
    {
     "name": "stdout",
     "output_type": "stream",
     "text": [
      "Delta R_2 at 800MHz, 1.764 s^-1\n"
     ]
    }
   ],
   "source": [
    "print \"Delta R_2 at 800MHz, %.3f s^-1\"%((2*np.pi*800.)**2.*(cpmg_pure(fingerprints, [2e-6], nums=[0,1])-cpmg_pure(fingerprints, [0.1e-6], nums=[0,1]) )[0])"
   ]
  },
  {
   "cell_type": "markdown",
   "metadata": {},
   "source": [
    "### 5. _Ad hoc_ compensation for auxillary relaxation effects and insufficient chemical shift amplitudes\n",
    "Many relaxation dispersion measurements will be 'tainted' by other relaxation effects ($R_{2,intrinsic}$). In addition, many chemical shift prediction algorithms appear to underestimate the chemical shift amplitudes ('variances'), which results in systematic underestimation of the amplitudes. One way to overcome this is to fit these parameters in a linear fit:\n",
    "$$ R_{2,obs} = R_{2,intrinsic} + \\alpha R_2$$\n",
    "where $\\alpha$ is a unitless amplitude correction.\n",
    "\n",
    "First we generate a synthetic dataset with noise ($0.45\\,\\text{Hz}$), $\\alpha$ ($23$), $R_{2,intrinsic}$ ($12.1\\,\\text{Hz} $)"
   ]
  },
  {
   "cell_type": "code",
   "execution_count": 190,
   "metadata": {
    "collapsed": false
   },
   "outputs": [
    {
     "data": {
      "text/plain": [
       "<matplotlib.text.Text at 0x11f205410>"
      ]
     },
     "execution_count": 190,
     "metadata": {},
     "output_type": "execute_result"
    },
    {
     "data": {
      "image/png": "[encoded data removed]",
      "text/plain": [
       "<matplotlib.figure.Figure at 0x11f169cd0>"
      ]
     },
     "metadata": {},
     "output_type": "display_data"
    }
   ],
   "source": [
    "# generate synthetic experimental data with Gaussian noise (0.45 Hz)\n",
    "r2_intrinsic = 12.1 # Hz\n",
    "alpha = 2.3e1 # a.u.\n",
    "nu_exp  = np.linspace(1e3,5e6,13) # Hz\n",
    "R2_slexp = alpha*(2*np.pi*800)**2.*r1rho_pure(fingerprints,nu_exp,nums=[0,1] )+r2_intrinsic + np.random.normal(0, 0.45, size=np.shape(nu_exp))\n",
    "f, ax = plt.subplots(nrows=1,ncols=1,figsize=(4,4))\n",
    "ax.plot(nu_exp/1e6, R2_slexp,'o')\n",
    "\n",
    "ax.set_xlabel(r'$\\nu_1$, $10^6\\; s^{-1}$')\n",
    "ax.set_ylabel(r'$R_{1\\rho,SL}$')\n",
    "ax.set_title(r'synthetic experimental data')\n"
   ]
  },
  {
   "cell_type": "markdown",
   "metadata": {},
   "source": [
    "Imports and helper function for fitting unknown parameters (simple least-squares)"
   ]
  },
  {
   "cell_type": "code",
   "execution_count": 191,
   "metadata": {
    "collapsed": true
   },
   "outputs": [],
   "source": [
    "from scipy.optimize import curve_fit\n",
    "\n",
    "def fitfunc(x, a, b):\n",
    "    return abs(a) * x + abs(b)  "
   ]
  },
  {
   "cell_type": "markdown",
   "metadata": {},
   "source": [
    "Fit, predict and plot:"
   ]
  },
  {
   "cell_type": "code",
   "execution_count": 192,
   "metadata": {
    "collapsed": false
   },
   "outputs": [
    {
     "data": {
      "text/plain": [
       "<matplotlib.text.Text at 0x11f476dd0>"
      ]
     },
     "execution_count": 192,
     "metadata": {},
     "output_type": "execute_result"
    },
    {
     "data": {
      "image/png": "[encoded data removed]",
      "text/plain": [
       "<matplotlib.figure.Figure at 0x11f21b750>"
      ]
     },
     "metadata": {},
     "output_type": "display_data"
    }
   ],
   "source": [
    "#fit\n",
    "pv, pcov = curve_fit(fitfunc, (2*np.pi*800)**2.*r1rho_pure(fingerprints, nu_exp, nums=[0,1]), R2_slexp)\n",
    "#predict\n",
    "prediction = pv[0]*(2*np.pi*800)**2.*r1rho_pure(fingerprints, np.arange(1e3,5e6,1e5),nums=[0,1])+pv[1]\n",
    "\n",
    "#plot\n",
    "f, ax = plt.subplots(nrows=1,ncols=1,figsize=(6,4))\n",
    "ax.plot(nu_exp/1e6, R2_slexp,'o', label='data')\n",
    "ax.plot(np.arange(1e3,5e6,1e5)/1e6, prediction, label=r'fit ($\\alpha=%.1f$, $R_{2,intrinsic}=%.1f\\,\\mathrm{Hz}$)'%(pv[0], pv[1]))\n",
    "ax.set_xlabel(r'$\\nu_1$, $10^6\\; s^{-1}$')\n",
    "ax.set_ylabel(r'$R_{1\\rho,SL}$')\n",
    "ax.legend()\n",
    "ax.set_title(r'synthetic experimental data and fit')\n"
   ]
  }
 ],
 "metadata": {
  "kernelspec": {
   "display_name": "Python 2",
   "language": "python",
   "name": "python2"
  },
  "language_info": {
   "codemirror_mode": {
    "name": "ipython",
    "version": 2
   },
   "file_extension": ".py",
   "mimetype": "text/x-python",
   "name": "python",
   "nbconvert_exporter": "python",
   "pygments_lexer": "ipython2",
   "version": "2.7.12"
  }
 },
 "nbformat": 4,
 "nbformat_minor": 0
}
